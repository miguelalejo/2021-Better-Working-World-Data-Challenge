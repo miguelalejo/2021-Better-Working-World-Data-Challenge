{
  "nbformat": 4,
  "nbformat_minor": 0,
  "metadata": {
    "colab": {
      "name": "PytorchPracticeCap1-DataCamp.ipynb",
      "provenance": [],
      "authorship_tag": "ABX9TyPMYuU44sjzfVhUPsAObXXq",
      "include_colab_link": true
    },
    "kernelspec": {
      "name": "python3",
      "display_name": "Python 3"
    },
    "language_info": {
      "name": "python"
    }
  },
  "cells": [
    {
      "cell_type": "markdown",
      "metadata": {
        "id": "view-in-github",
        "colab_type": "text"
      },
      "source": [
        "<a href=\"https://colab.research.google.com/github/miguelalejo/2021-Better-Working-World-Data-Challenge/blob/main/PytorchPracticeCap1_DataCamp.ipynb\" target=\"_parent\"><img src=\"https://colab.research.google.com/assets/colab-badge.svg\" alt=\"Open In Colab\"/></a>"
      ]
    },
    {
      "cell_type": "code",
      "execution_count": 1,
      "metadata": {
        "id": "PtDNYxHeiM1z"
      },
      "outputs": [],
      "source": [
        "import torch"
      ]
    },
    {
      "cell_type": "code",
      "source": [
        "tensor_a = torch.rand(3,3)\n",
        "tensor_a"
      ],
      "metadata": {
        "id": "Wo9xp1kajEHI",
        "outputId": "4d1c585c-8fcc-4cac-fc29-33d321b27986",
        "colab": {
          "base_uri": "https://localhost:8080/"
        }
      },
      "execution_count": 2,
      "outputs": [
        {
          "output_type": "execute_result",
          "data": {
            "text/plain": [
              "tensor([[0.0024, 0.8762, 0.2584],\n",
              "        [0.6295, 0.4686, 0.7325],\n",
              "        [0.8319, 0.3865, 0.2508]])"
            ]
          },
          "metadata": {},
          "execution_count": 2
        }
      ]
    },
    {
      "cell_type": "code",
      "source": [
        "tensor_a_size = tensor_a.size\n",
        "tensor_a_size"
      ],
      "metadata": {
        "id": "JIndevWNjOn_",
        "outputId": "ce25b8a7-cd33-415d-9abc-af9daebbe1d9",
        "colab": {
          "base_uri": "https://localhost:8080/"
        }
      },
      "execution_count": 3,
      "outputs": [
        {
          "output_type": "execute_result",
          "data": {
            "text/plain": [
              "<function Tensor.size>"
            ]
          },
          "metadata": {},
          "execution_count": 3
        }
      ]
    },
    {
      "cell_type": "code",
      "source": [
        "tensor_a_shape = tensor_a.shape\n",
        "tensor_a_shape"
      ],
      "metadata": {
        "id": "Z-F8A7OAjcYd",
        "outputId": "ba5cc4b7-890d-470c-b32a-d9452a09dd92",
        "colab": {
          "base_uri": "https://localhost:8080/"
        }
      },
      "execution_count": 4,
      "outputs": [
        {
          "output_type": "execute_result",
          "data": {
            "text/plain": [
              "torch.Size([3, 3])"
            ]
          },
          "metadata": {},
          "execution_count": 4
        }
      ]
    },
    {
      "cell_type": "code",
      "source": [
        "tensor_ones = torch.ones(3,3)\n",
        "tensor_ones"
      ],
      "metadata": {
        "id": "BzRCnDQxj8Ks",
        "outputId": "13ca280c-0c48-45a7-ab9a-c72eddc5567e",
        "colab": {
          "base_uri": "https://localhost:8080/"
        }
      },
      "execution_count": 5,
      "outputs": [
        {
          "output_type": "execute_result",
          "data": {
            "text/plain": [
              "tensor([[1., 1., 1.],\n",
              "        [1., 1., 1.],\n",
              "        [1., 1., 1.]])"
            ]
          },
          "metadata": {},
          "execution_count": 5
        }
      ]
    },
    {
      "cell_type": "code",
      "source": [
        "tensor_eye = torch.eye(3)\n",
        "tensor_eye"
      ],
      "metadata": {
        "id": "ZBLPquNEkC3V",
        "outputId": "8301bb5a-cc09-4065-ac3d-c961afe4f75e",
        "colab": {
          "base_uri": "https://localhost:8080/"
        }
      },
      "execution_count": 6,
      "outputs": [
        {
          "output_type": "execute_result",
          "data": {
            "text/plain": [
              "tensor([[1., 0., 0.],\n",
              "        [0., 1., 0.],\n",
              "        [0., 0., 1.]])"
            ]
          },
          "metadata": {},
          "execution_count": 6
        }
      ]
    },
    {
      "cell_type": "code",
      "source": [
        "tensor_matmul = torch.matmul(tensor_ones,tensor_eye)\n",
        "tensor_matmul"
      ],
      "metadata": {
        "id": "SfxEnQKPkG5r",
        "outputId": "29d42d2c-6c13-491d-db1c-5084d04e9950",
        "colab": {
          "base_uri": "https://localhost:8080/"
        }
      },
      "execution_count": 7,
      "outputs": [
        {
          "output_type": "execute_result",
          "data": {
            "text/plain": [
              "tensor([[1., 1., 1.],\n",
              "        [1., 1., 1.],\n",
              "        [1., 1., 1.]])"
            ]
          },
          "metadata": {},
          "execution_count": 7
        }
      ]
    },
    {
      "cell_type": "code",
      "source": [
        "tensor_prod = tensor_ones * tensor_eye\n",
        "tensor_prod"
      ],
      "metadata": {
        "id": "87E1MbImkTsU",
        "outputId": "7a526e70-9579-4dc1-a309-556f3a2bc60b",
        "colab": {
          "base_uri": "https://localhost:8080/"
        }
      },
      "execution_count": 8,
      "outputs": [
        {
          "output_type": "execute_result",
          "data": {
            "text/plain": [
              "tensor([[1., 0., 0.],\n",
              "        [0., 1., 0.],\n",
              "        [0., 0., 1.]])"
            ]
          },
          "metadata": {},
          "execution_count": 8
        }
      ]
    }
  ]
}